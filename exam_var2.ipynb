{
  "nbformat": 4,
  "nbformat_minor": 0,
  "metadata": {
    "kernelspec": {
      "display_name": "Python 3",
      "language": "python",
      "name": "python3"
    },
    "language_info": {
      "codemirror_mode": {
        "name": "ipython",
        "version": 3
      },
      "file_extension": ".py",
      "mimetype": "text/x-python",
      "name": "python",
      "nbconvert_exporter": "python",
      "pygments_lexer": "ipython3",
      "version": "3.7.6"
    },
    "colab": {
      "name": "exam_var2.ipynb",
      "provenance": []
    }
  },
  "cells": [
    {
      "cell_type": "markdown",
      "metadata": {
        "id": "EcQRkouh_qGL",
        "colab_type": "text"
      },
      "source": [
        "## 4. Compare logistic regression and SVM: decision surface and robustness"
      ]
    },
    {
      "cell_type": "markdown",
      "metadata": {
        "id": "oJcMj4Wc_qTU",
        "colab_type": "text"
      },
      "source": [
        "In logistic regression the decision surface is always described with a sigmoid function, while SVM tries to create a hyperplane of size n-1 in an n-dimensional space to divide the surface into subparts. The hyperplane, unlike the sigmoid function, can have various shapes. Svm is more robust than logistic regression."
      ]
    },
    {
      "cell_type": "markdown",
      "metadata": {
        "id": "HpPXdBXb_MfK",
        "colab_type": "text"
      },
      "source": [
        "# Exam\n",
        "\n",
        "Develop a model for predicting review rating.  \n",
        "**Binary classification:**  \n",
        "**positive class: target = 5**   \n",
        "**negative class: target = 1,2,3,4**  \n",
        "Score: **binary F1**  \n",
        "You are forbidden to use test dataset for any kind of training.  \n",
        "Remember proper training pipeline.  \n",
        "If you are not using default params in the models, you have to use some validation scheme to justify them. \n",
        "\n",
        "Use `random_state` or `seed` params - your experiment must be reprodusible.\n",
        "\n",
        "\n",
        "### 1 baseline = 0.720\n",
        "### 2 baseline = 0.745\n"
      ]
    },
    {
      "cell_type": "code",
      "metadata": {
        "id": "68G87qN0_dav",
        "colab_type": "code",
        "colab": {
          "base_uri": "https://localhost:8080/",
          "height": 124
        },
        "outputId": "dde76c82-00b5-4e6c-e9c5-263af81ca87c"
      },
      "source": [
        "from google.colab import drive\n",
        "drive.mount('/content/drive')"
      ],
      "execution_count": 2,
      "outputs": [
        {
          "output_type": "stream",
          "text": [
            "Go to this URL in a browser: https://accounts.google.com/o/oauth2/auth?client_id=947318989803-6bn6qk8qdgf4n4g3pfee6491hc0brc4i.apps.googleusercontent.com&redirect_uri=urn%3aietf%3awg%3aoauth%3a2.0%3aoob&response_type=code&scope=email%20https%3a%2f%2fwww.googleapis.com%2fauth%2fdocs.test%20https%3a%2f%2fwww.googleapis.com%2fauth%2fdrive%20https%3a%2f%2fwww.googleapis.com%2fauth%2fdrive.photos.readonly%20https%3a%2f%2fwww.googleapis.com%2fauth%2fpeopleapi.readonly\n",
            "\n",
            "Enter your authorization code:\n",
            "··········\n",
            "Mounted at /content/drive\n"
          ],
          "name": "stdout"
        }
      ]
    },
    {
      "cell_type": "code",
      "metadata": {
        "id": "96ClFjyJ_nGf",
        "colab_type": "code",
        "colab": {}
      },
      "source": [
        "current_dir = '/content/drive/My Drive/Colab Notebooks/'"
      ],
      "execution_count": 0,
      "outputs": []
    },
    {
      "cell_type": "code",
      "metadata": {
        "id": "lAKorNm8_MfQ",
        "colab_type": "code",
        "colab": {}
      },
      "source": [
        "import pandas as pd\n",
        "import numpy as np"
      ],
      "execution_count": 0,
      "outputs": []
    },
    {
      "cell_type": "code",
      "metadata": {
        "id": "zYYyv7Ch_MfY",
        "colab_type": "code",
        "colab": {
          "base_uri": "https://localhost:8080/",
          "height": 35
        },
        "outputId": "c7dd3b19-74f4-444a-92d3-0f42bc9bc9a4"
      },
      "source": [
        "df_train = pd.read_csv(current_dir + 'train.csv')\n",
        "df_test = pd.read_csv(current_dir + 'test.csv')\n",
        "\n",
        "df_train['target'] = (df_train['target'] == 5).astype(np.int)\n",
        "df_test['target'] = (df_test['target'] == 5).astype(np.int)\n",
        "\n",
        "df_train.shape"
      ],
      "execution_count": 10,
      "outputs": [
        {
          "output_type": "execute_result",
          "data": {
            "text/plain": [
              "(48192, 3)"
            ]
          },
          "metadata": {
            "tags": []
          },
          "execution_count": 10
        }
      ]
    },
    {
      "cell_type": "code",
      "metadata": {
        "id": "xSBKl_7s_4fb",
        "colab_type": "code",
        "colab": {
          "base_uri": "https://localhost:8080/",
          "height": 52
        },
        "outputId": "0305fb21-4e6a-4ae4-f400-65ae263e04cf"
      },
      "source": [
        "print('Размер test dataset: ', len(df_test))\n",
        "print('Размер train dataset: ', len(df_train))"
      ],
      "execution_count": 11,
      "outputs": [
        {
          "output_type": "stream",
          "text": [
            "Размер test dataset:  5355\n",
            "Размер train dataset:  48192\n"
          ],
          "name": "stdout"
        }
      ]
    },
    {
      "cell_type": "code",
      "metadata": {
        "id": "aFy3jVIBAJsA",
        "colab_type": "code",
        "colab": {
          "base_uri": "https://localhost:8080/",
          "height": 202
        },
        "outputId": "473000f6-5331-4807-8664-7861f7c900a3"
      },
      "source": [
        "df_train.head()"
      ],
      "execution_count": 12,
      "outputs": [
        {
          "output_type": "execute_result",
          "data": {
            "text/html": [
              "<div>\n",
              "<style scoped>\n",
              "    .dataframe tbody tr th:only-of-type {\n",
              "        vertical-align: middle;\n",
              "    }\n",
              "\n",
              "    .dataframe tbody tr th {\n",
              "        vertical-align: top;\n",
              "    }\n",
              "\n",
              "    .dataframe thead th {\n",
              "        text-align: right;\n",
              "    }\n",
              "</style>\n",
              "<table border=\"1\" class=\"dataframe\">\n",
              "  <thead>\n",
              "    <tr style=\"text-align: right;\">\n",
              "      <th></th>\n",
              "      <th>review</th>\n",
              "      <th>title</th>\n",
              "      <th>target</th>\n",
              "    </tr>\n",
              "  </thead>\n",
              "  <tbody>\n",
              "    <tr>\n",
              "      <th>0</th>\n",
              "      <td>The staff was very friendly, the breakfast ver...</td>\n",
              "      <td>Walker Gem</td>\n",
              "      <td>1</td>\n",
              "    </tr>\n",
              "    <tr>\n",
              "      <th>1</th>\n",
              "      <td>Excellent service - very approachable and prof...</td>\n",
              "      <td>Excellent Service</td>\n",
              "      <td>0</td>\n",
              "    </tr>\n",
              "    <tr>\n",
              "      <th>2</th>\n",
              "      <td>Really a top notch place to spend a day at the...</td>\n",
              "      <td>Good location, warm and friendly staff</td>\n",
              "      <td>1</td>\n",
              "    </tr>\n",
              "    <tr>\n",
              "      <th>3</th>\n",
              "      <td>a little noisy, there was a false fire alarm a...</td>\n",
              "      <td>nice hotel,</td>\n",
              "      <td>0</td>\n",
              "    </tr>\n",
              "    <tr>\n",
              "      <th>4</th>\n",
              "      <td>Place had too many animals and I'm allergic to...</td>\n",
              "      <td>Experience</td>\n",
              "      <td>0</td>\n",
              "    </tr>\n",
              "  </tbody>\n",
              "</table>\n",
              "</div>"
            ],
            "text/plain": [
              "                                              review  ... target\n",
              "0  The staff was very friendly, the breakfast ver...  ...      1\n",
              "1  Excellent service - very approachable and prof...  ...      0\n",
              "2  Really a top notch place to spend a day at the...  ...      1\n",
              "3  a little noisy, there was a false fire alarm a...  ...      0\n",
              "4  Place had too many animals and I'm allergic to...  ...      0\n",
              "\n",
              "[5 rows x 3 columns]"
            ]
          },
          "metadata": {
            "tags": []
          },
          "execution_count": 12
        }
      ]
    },
    {
      "cell_type": "code",
      "metadata": {
        "id": "U3h_mt94ALvx",
        "colab_type": "code",
        "colab": {
          "base_uri": "https://localhost:8080/",
          "height": 87
        },
        "outputId": "2f0503f8-9436-4148-c896-0d7a0ac0112c"
      },
      "source": [
        "from sklearn.metrics import f1_score\n",
        "from sklearn.ensemble import RandomForestClassifier\n",
        "from sklearn.model_selection import GridSearchCV\n",
        "from sklearn.feature_extraction.text import TfidfTransformer\n",
        "tfidfconverter = TfidfTransformer()\n",
        "from sklearn.feature_extraction.text import CountVectorizer\n",
        "\n",
        "import nltk\n",
        "from nltk.stem import WordNetLemmatizer\n",
        "from nltk.tokenize import RegexpTokenizer\n",
        "from nltk.corpus import stopwords\n",
        "\n",
        "nltk.download('wordnet')\n",
        "lemmatizer = WordNetLemmatizer() \n",
        "token = RegexpTokenizer('\\w+')\n",
        "nltk.download('stopwords')\n",
        "stops = set(stopwords.words('english'))\n",
        "\n",
        "vectorizer = CountVectorizer(max_features=1500, min_df=5, max_df=0.7, stop_words=stops)\n",
        "SEED=1337"
      ],
      "execution_count": 30,
      "outputs": [
        {
          "output_type": "stream",
          "text": [
            "[nltk_data] Downloading package wordnet to /root/nltk_data...\n",
            "[nltk_data]   Package wordnet is already up-to-date!\n",
            "[nltk_data] Downloading package stopwords to /root/nltk_data...\n",
            "[nltk_data]   Package stopwords is already up-to-date!\n"
          ],
          "name": "stdout"
        }
      ]
    },
    {
      "cell_type": "code",
      "metadata": {
        "id": "p7W1O1JTAO9B",
        "colab_type": "code",
        "colab": {}
      },
      "source": [
        "def tokenize(text):\n",
        "    return token.tokenize(text)\n",
        "\n",
        "\n",
        "def lemmatize(texts):\n",
        "    arr = []\n",
        "    texts = [text.lower() for text in texts]\n",
        "    for text in texts:\n",
        "        words = [lemmatizer.lemmatize(word) for word in tokenize(text) if word not in stops]\n",
        "        arr.append(' '.join(words))\n",
        "    return arr"
      ],
      "execution_count": 0,
      "outputs": []
    },
    {
      "cell_type": "code",
      "metadata": {
        "id": "q_QnaR9VARMO",
        "colab_type": "code",
        "colab": {}
      },
      "source": [
        "train_txt = list(df_train[\"review\"])\n",
        "test_txt = list(df_test[\"review\"])"
      ],
      "execution_count": 0,
      "outputs": []
    },
    {
      "cell_type": "code",
      "metadata": {
        "id": "xcYKJI3jATe6",
        "colab_type": "code",
        "colab": {}
      },
      "source": [
        "train_txt = lemmatize(train_txt)\n",
        "test_txt = lemmatize(test_txt)"
      ],
      "execution_count": 0,
      "outputs": []
    },
    {
      "cell_type": "code",
      "metadata": {
        "id": "IQRipsWpAUuV",
        "colab_type": "code",
        "colab": {
          "base_uri": "https://localhost:8080/",
          "height": 124
        },
        "outputId": "8f421e95-4618-4493-f28d-594581335ede"
      },
      "source": [
        "train_txt[:5]"
      ],
      "execution_count": 17,
      "outputs": [
        {
          "output_type": "execute_result",
          "data": {
            "text/plain": [
              "['staff friendly breakfast nice extremely comfortable bed',\n",
              " 'excellent service approachable professional staff stayed business dining gallery certainly convenient fitness center could improved basic cardio equipment needed would stay',\n",
              " 'really top notch place spend day beginning end honduras trip staff friendly professional helpful efficient question find answer make call walking distance mall lot good restaurant though advisable take taxi night breakfast buffet',\n",
              " 'little noisy false fire alarm midnight reason given',\n",
              " 'place many animal allergic pet although receive pet free room pet every lobby elevator anything pet highly allergic therefore people allergy considered']"
            ]
          },
          "metadata": {
            "tags": []
          },
          "execution_count": 17
        }
      ]
    },
    {
      "cell_type": "code",
      "metadata": {
        "id": "ikjepj1pAWQY",
        "colab_type": "code",
        "colab": {
          "base_uri": "https://localhost:8080/",
          "height": 202
        },
        "outputId": "8aad004d-9987-4845-cb0f-1f84ef7cb82e"
      },
      "source": [
        "df_train.insert(1, \"review_lem\", train_txt)\n",
        "df_train.head()"
      ],
      "execution_count": 18,
      "outputs": [
        {
          "output_type": "execute_result",
          "data": {
            "text/html": [
              "<div>\n",
              "<style scoped>\n",
              "    .dataframe tbody tr th:only-of-type {\n",
              "        vertical-align: middle;\n",
              "    }\n",
              "\n",
              "    .dataframe tbody tr th {\n",
              "        vertical-align: top;\n",
              "    }\n",
              "\n",
              "    .dataframe thead th {\n",
              "        text-align: right;\n",
              "    }\n",
              "</style>\n",
              "<table border=\"1\" class=\"dataframe\">\n",
              "  <thead>\n",
              "    <tr style=\"text-align: right;\">\n",
              "      <th></th>\n",
              "      <th>review</th>\n",
              "      <th>review_lem</th>\n",
              "      <th>title</th>\n",
              "      <th>target</th>\n",
              "    </tr>\n",
              "  </thead>\n",
              "  <tbody>\n",
              "    <tr>\n",
              "      <th>0</th>\n",
              "      <td>The staff was very friendly, the breakfast ver...</td>\n",
              "      <td>staff friendly breakfast nice extremely comfor...</td>\n",
              "      <td>Walker Gem</td>\n",
              "      <td>1</td>\n",
              "    </tr>\n",
              "    <tr>\n",
              "      <th>1</th>\n",
              "      <td>Excellent service - very approachable and prof...</td>\n",
              "      <td>excellent service approachable professional st...</td>\n",
              "      <td>Excellent Service</td>\n",
              "      <td>0</td>\n",
              "    </tr>\n",
              "    <tr>\n",
              "      <th>2</th>\n",
              "      <td>Really a top notch place to spend a day at the...</td>\n",
              "      <td>really top notch place spend day beginning end...</td>\n",
              "      <td>Good location, warm and friendly staff</td>\n",
              "      <td>1</td>\n",
              "    </tr>\n",
              "    <tr>\n",
              "      <th>3</th>\n",
              "      <td>a little noisy, there was a false fire alarm a...</td>\n",
              "      <td>little noisy false fire alarm midnight reason ...</td>\n",
              "      <td>nice hotel,</td>\n",
              "      <td>0</td>\n",
              "    </tr>\n",
              "    <tr>\n",
              "      <th>4</th>\n",
              "      <td>Place had too many animals and I'm allergic to...</td>\n",
              "      <td>place many animal allergic pet although receiv...</td>\n",
              "      <td>Experience</td>\n",
              "      <td>0</td>\n",
              "    </tr>\n",
              "  </tbody>\n",
              "</table>\n",
              "</div>"
            ],
            "text/plain": [
              "                                              review  ... target\n",
              "0  The staff was very friendly, the breakfast ver...  ...      1\n",
              "1  Excellent service - very approachable and prof...  ...      0\n",
              "2  Really a top notch place to spend a day at the...  ...      1\n",
              "3  a little noisy, there was a false fire alarm a...  ...      0\n",
              "4  Place had too many animals and I'm allergic to...  ...      0\n",
              "\n",
              "[5 rows x 4 columns]"
            ]
          },
          "metadata": {
            "tags": []
          },
          "execution_count": 18
        }
      ]
    },
    {
      "cell_type": "code",
      "metadata": {
        "id": "UKYQ7k8eAYNQ",
        "colab_type": "code",
        "colab": {
          "base_uri": "https://localhost:8080/",
          "height": 202
        },
        "outputId": "cc5b3c3e-7e62-4458-f727-0516865af5f5"
      },
      "source": [
        "df_test.insert(1, 'review_lem', test_txt)\n",
        "df_test.head()"
      ],
      "execution_count": 19,
      "outputs": [
        {
          "output_type": "execute_result",
          "data": {
            "text/html": [
              "<div>\n",
              "<style scoped>\n",
              "    .dataframe tbody tr th:only-of-type {\n",
              "        vertical-align: middle;\n",
              "    }\n",
              "\n",
              "    .dataframe tbody tr th {\n",
              "        vertical-align: top;\n",
              "    }\n",
              "\n",
              "    .dataframe thead th {\n",
              "        text-align: right;\n",
              "    }\n",
              "</style>\n",
              "<table border=\"1\" class=\"dataframe\">\n",
              "  <thead>\n",
              "    <tr style=\"text-align: right;\">\n",
              "      <th></th>\n",
              "      <th>review</th>\n",
              "      <th>review_lem</th>\n",
              "      <th>title</th>\n",
              "      <th>target</th>\n",
              "    </tr>\n",
              "  </thead>\n",
              "  <tbody>\n",
              "    <tr>\n",
              "      <th>0</th>\n",
              "      <td>I am from old town, and I stayed in this hotel...</td>\n",
              "      <td>old town stayed hotel mom visit renovation yea...</td>\n",
              "      <td>Incredible Hotel</td>\n",
              "      <td>1</td>\n",
              "    </tr>\n",
              "    <tr>\n",
              "      <th>1</th>\n",
              "      <td>We have been coming to the Ocean Park Inn for ...</td>\n",
              "      <td>coming ocean park inn year usually book severa...</td>\n",
              "      <td>We Love this beach front Inn</td>\n",
              "      <td>1</td>\n",
              "    </tr>\n",
              "    <tr>\n",
              "      <th>2</th>\n",
              "      <td>Perfect place for a quick get away. We had a q...</td>\n",
              "      <td>perfect place quick get away queen room shared...</td>\n",
              "      <td>Love this place!</td>\n",
              "      <td>1</td>\n",
              "    </tr>\n",
              "    <tr>\n",
              "      <th>3</th>\n",
              "      <td>The room was not the best however, it was good...</td>\n",
              "      <td>room best however good one night continuing tr...</td>\n",
              "      <td>Good For One Night Stay...</td>\n",
              "      <td>0</td>\n",
              "    </tr>\n",
              "    <tr>\n",
              "      <th>4</th>\n",
              "      <td>Sous le motif d'une priode hivernale (inaccept...</td>\n",
              "      <td>sou le motif une priode hivernale inacceptable...</td>\n",
              "      <td>Moyen</td>\n",
              "      <td>0</td>\n",
              "    </tr>\n",
              "  </tbody>\n",
              "</table>\n",
              "</div>"
            ],
            "text/plain": [
              "                                              review  ... target\n",
              "0  I am from old town, and I stayed in this hotel...  ...      1\n",
              "1  We have been coming to the Ocean Park Inn for ...  ...      1\n",
              "2  Perfect place for a quick get away. We had a q...  ...      1\n",
              "3  The room was not the best however, it was good...  ...      0\n",
              "4  Sous le motif d'une priode hivernale (inaccept...  ...      0\n",
              "\n",
              "[5 rows x 4 columns]"
            ]
          },
          "metadata": {
            "tags": []
          },
          "execution_count": 19
        }
      ]
    },
    {
      "cell_type": "code",
      "metadata": {
        "id": "PgGxS6rVAdkK",
        "colab_type": "code",
        "colab": {}
      },
      "source": [
        "import tensorflow\n",
        "from tensorflow.keras import *\n",
        "from tensorflow.keras.layers import *\n",
        "from tensorflow.keras.models import *\n",
        "from tensorflow.keras.preprocessing.text import Tokenizer\n",
        "from tensorflow.keras.preprocessing.sequence import pad_sequences\n",
        "tokenizer = Tokenizer(num_words=7000)"
      ],
      "execution_count": 0,
      "outputs": []
    },
    {
      "cell_type": "code",
      "metadata": {
        "id": "H2MacEFkAZyY",
        "colab_type": "code",
        "colab": {}
      },
      "source": [
        "def model(train_data, y_train):\n",
        "    \n",
        "    model = Sequential([\n",
        "    Embedding(7000, 200),\n",
        "    Bidirectional(LSTM(100, return_sequences=True)),\n",
        "    GlobalMaxPool1D(),\n",
        "    Dense(32, activation = 'relu'),\n",
        "    Dropout(0.1),\n",
        "    Dense(1, activation = 'sigmoid'),\n",
        "    ])\n",
        "    \n",
        "    model.compile(optimizer='rmsprop', loss='binary_crossentropy', metrics=['accuracy'])\n",
        "    \n",
        "    tokenizer.fit_on_texts(train_data)\n",
        "    X_train = pad_sequences(tokenizer.texts_to_sequences(train_data), maxlen = 200)\n",
        "    \n",
        "    model.fit(X_train, y_train, batch_size=250, epochs=4, validation_split=0.25)\n",
        "    \n",
        "    return model"
      ],
      "execution_count": 0,
      "outputs": []
    },
    {
      "cell_type": "code",
      "metadata": {
        "id": "sv-U4lPlAgdM",
        "colab_type": "code",
        "colab": {
          "base_uri": "https://localhost:8080/",
          "height": 173
        },
        "outputId": "a7d3cb29-58c7-41f2-9497-8722f19f1cad"
      },
      "source": [
        "#до этого модель обучалась в 3 эпохи\n",
        "\n",
        "model = model(df_train['review_lem'], df_train['target'])"
      ],
      "execution_count": 49,
      "outputs": [
        {
          "output_type": "stream",
          "text": [
            "Train on 36144 samples, validate on 12048 samples\n",
            "Epoch 1/4\n",
            "36144/36144 [==============================] - 559s 15ms/sample - loss: 0.5308 - acc: 0.7324 - val_loss: 0.4758 - val_acc: 0.7753\n",
            "Epoch 2/4\n",
            "36144/36144 [==============================] - 558s 15ms/sample - loss: 0.4500 - acc: 0.7866 - val_loss: 0.4696 - val_acc: 0.7716\n",
            "Epoch 3/4\n",
            "36144/36144 [==============================] - 570s 16ms/sample - loss: 0.4280 - acc: 0.7986 - val_loss: 0.4701 - val_acc: 0.7737\n",
            "Epoch 4/4\n",
            "36144/36144 [==============================] - 568s 16ms/sample - loss: 0.4068 - acc: 0.8107 - val_loss: 0.4885 - val_acc: 0.7712\n"
          ],
          "name": "stdout"
        }
      ]
    },
    {
      "cell_type": "code",
      "metadata": {
        "id": "Mzx2ZJeqAlZm",
        "colab_type": "code",
        "colab": {}
      },
      "source": [
        "y_pred = [int(x[0] + 0.5) for x in model.predict(pad_sequences(tokenizer.texts_to_sequences(df_test['review_lem']), maxlen = 200))]"
      ],
      "execution_count": 0,
      "outputs": []
    },
    {
      "cell_type": "code",
      "metadata": {
        "id": "fBRq6eZNGe2g",
        "colab_type": "code",
        "colab": {
          "base_uri": "https://localhost:8080/",
          "height": 35
        },
        "outputId": "14524183-be5b-436e-f1a0-cbe0075e2f31"
      },
      "source": [
        "print('F1 score: ', round(f1_score(df_test['target'], y_pred), 3))"
      ],
      "execution_count": 52,
      "outputs": [
        {
          "output_type": "stream",
          "text": [
            "F1 score:  0.723\n"
          ],
          "name": "stdout"
        }
      ]
    }
  ]
}